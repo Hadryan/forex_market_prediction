{
 "cells": [
  {
   "cell_type": "markdown",
   "metadata": {},
   "source": [
    "# Forex Market Prediction"
   ]
  },
  {
   "cell_type": "code",
   "execution_count": 1,
   "metadata": {},
   "outputs": [],
   "source": [
    "import pandas as pd\n",
    "import warnings\n",
    "from sklearn.model_selection import train_test_split \n",
    "from sklearn.metrics import accuracy_score, confusion_matrix, classification_report\n",
    "import numpy as np\n",
    "\n",
    "warnings.filterwarnings(\"ignore\")\n",
    "\n",
    "df = pd.read_csv('Train_small.csv') \n",
    "X = df[df.columns.difference(['Unnamed: 0', 'up_down'])]\n",
    "y = df['up_down'].values.astype('float64')\n",
    "\n",
    "X_train, X_test, y_train, y_test = train_test_split(X, y, test_size=0.2, random_state=0) \n",
    "\n",
    "test_data = pd.read_csv('Test_small_features.csv')\n",
    "test_data = test_data.drop(['Unnamed: 0'], axis=1)"
   ]
  },
  {
   "cell_type": "markdown",
   "metadata": {},
   "source": [
    "SVM"
   ]
  },
  {
   "cell_type": "code",
   "execution_count": 2,
   "metadata": {},
   "outputs": [
    {
     "name": "stdout",
     "output_type": "stream",
     "text": [
      "Accuracy = 0.6654918940690766\n"
     ]
    }
   ],
   "source": [
    "from sklearn.svm import SVC \n",
    "\n",
    "svc = SVC(kernel='linear', max_iter=680) \n",
    "svc.fit(X_train, y_train)\n",
    "\n",
    "y_pred_svm = svc.predict(X_test) \n",
    "print(\"Accuracy = \" + str(accuracy_score(y_test, y_pred_svm)))\n",
    "\n",
    "#1000 - 0.6648877253046017\n",
    "#1500 - 0.43\n",
    "#100 -  0.33440741113684425\n",
    "#600 - 0.66508911489276\n",
    "#700 - 0.6652905044809183\n",
    "#680 - 0.6654918940690766"
   ]
  },
  {
   "cell_type": "code",
   "execution_count": 3,
   "metadata": {},
   "outputs": [
    {
     "name": "stdout",
     "output_type": "stream",
     "text": [
      "              precision    recall  f1-score   support\n",
      "\n",
      "         0.0       0.67      0.97      0.79      6618\n",
      "         1.0       0.49      0.05      0.09      3313\n",
      "\n",
      "   micro avg       0.67      0.67      0.67      9931\n",
      "   macro avg       0.58      0.51      0.44      9931\n",
      "weighted avg       0.61      0.67      0.56      9931\n",
      "\n"
     ]
    },
    {
     "data": {
      "text/plain": [
       "array([[6439,  179],\n",
       "       [3143,  170]])"
      ]
     },
     "execution_count": 3,
     "metadata": {},
     "output_type": "execute_result"
    }
   ],
   "source": [
    "import numpy as np\n",
    "print(classification_report(y_test, y_pred_svm))\n",
    "confusion_matrix = confusion_matrix(y_test, y_pred_svm)\n",
    "confusion_matrix"
   ]
  },
  {
   "cell_type": "code",
   "execution_count": null,
   "metadata": {},
   "outputs": [],
   "source": [
    "test_pred_svm = svc.predict(test_data)\n",
    "df = pd.DataFrame(test_pred_svm[:,None], columns=['up_down'])\n",
    "\n",
    "#test_data = pd.read_csv('Test_small_feature.csv')\n",
    "#test_data = test_data.drop(['Gmt time', 'Unnamed: 0'], axis=1)\n",
    "#print(test_data.iloc[:, 2:])\n",
    "data = pd.DataFrame({'up_down':test_pred_dc})\n",
    "filepath = 'test_prediction_svm.csv'\n",
    "data.to_csv(filepath, index=False)"
   ]
  },
  {
   "cell_type": "markdown",
   "metadata": {},
   "source": [
    "Decision Tree"
   ]
  },
  {
   "cell_type": "code",
   "execution_count": 5,
   "metadata": {},
   "outputs": [
    {
     "name": "stdout",
     "output_type": "stream",
     "text": [
      "0.6652905044809183\n",
      "              precision    recall  f1-score   support\n",
      "\n",
      "         0.0       0.71      0.84      0.77      6618\n",
      "         1.0       0.50      0.31      0.38      3313\n",
      "\n",
      "   micro avg       0.67      0.67      0.67      9931\n",
      "   macro avg       0.60      0.58      0.58      9931\n",
      "weighted avg       0.64      0.67      0.64      9931\n",
      "\n"
     ]
    }
   ],
   "source": [
    "from sklearn.tree import DecisionTreeClassifier\n",
    "from sklearn import tree\n",
    "\n",
    "clf = DecisionTreeClassifier(random_state = 1234, max_depth=6, min_samples_leaf=1000)\n",
    "clf.fit(X_train, y_train)\n",
    "\n",
    "y_pred_dt = clf.predict(X_test)\n",
    "print(accuracy_score(y_test, y_pred_dt)) \n",
    "print(classification_report(y_test, y_pred_dt))"
   ]
  },
  {
   "cell_type": "code",
   "execution_count": null,
   "metadata": {},
   "outputs": [],
   "source": [
    "#test_data = pd.read_csv('Test_small_feature.csv')\n",
    "test_pred_dc = clf.predict(test_data)\n",
    "df = pd.DataFrame(test_pred_dc[:,None], columns=['up_down'])\n",
    "\n",
    "#test_data = pd.read_csv('Test_small_feature.csv')\n",
    "#test_data = test_data.drop(['Gmt time', 'Unnamed: 0'], axis=1)\n",
    "#print(test_data.iloc[:, 2:])\n",
    "data = pd.DataFrame({'up_down':test_pred_dc})\n",
    "filepath = 'test_prediction_dt.csv'\n",
    "data.to_csv(filepath, index=False)"
   ]
  },
  {
   "cell_type": "code",
   "execution_count": 8,
   "metadata": {},
   "outputs": [
    {
     "name": "stdout",
     "output_type": "stream",
     "text": [
      "0.6702245493907965\n",
      "              precision    recall  f1-score   support\n",
      "\n",
      "         0.0       0.71      0.86      0.78      6618\n",
      "         1.0       0.51      0.29      0.37      3313\n",
      "\n",
      "   micro avg       0.67      0.67      0.67      9931\n",
      "   macro avg       0.61      0.58      0.57      9931\n",
      "weighted avg       0.64      0.67      0.64      9931\n",
      "\n"
     ]
    }
   ],
   "source": [
    "from sklearn.ensemble import RandomForestClassifier\n",
    "\n",
    "rand = RandomForestClassifier(n_estimators = 1000)\n",
    "rand.fit(X_train, y_train)\n",
    "\n",
    "y_pred_rf = rand.predict(X_test)\n",
    "print(accuracy_score(y_test, y_pred_rf)) \n",
    "print(classification_report(y_test, y_pred_rf))\n",
    "\n",
    "#1000 - 0.6697210754204007\n",
    "#200 - 0.6649884200986809"
   ]
  },
  {
   "cell_type": "code",
   "execution_count": 37,
   "metadata": {},
   "outputs": [],
   "source": [
    "#test_data = pd.read_csv('Test_small_feature.csv')\n",
    "test_pred_rf = rand.predict(test)\n",
    "df = pd.DataFrame(test_pred_rf[:,None], columns=['up_down'])\n",
    "\n",
    "#test_data = pd.read_csv('Test_small_feature.csv')\n",
    "#test_data = test_data.drop(['Gmt time', 'Unnamed: 0'], axis=1)\n",
    "#print(test_data.iloc[:, 2:])\n",
    "data = pd.DataFrame({'up_down':test_pred_dc})\n",
    "filepath = 'test_prediction_rf.csv'\n",
    "data.to_csv(filepath, index=False)"
   ]
  },
  {
   "cell_type": "markdown",
   "metadata": {},
   "source": [
    "Neural Networks"
   ]
  },
  {
   "cell_type": "code",
   "execution_count": 12,
   "metadata": {},
   "outputs": [
    {
     "name": "stdout",
     "output_type": "stream",
     "text": [
      "0.6255160608196556\n",
      "              precision    recall  f1-score   support\n",
      "\n",
      "         0.0       0.92      0.48      0.63      6618\n",
      "         1.0       0.47      0.92      0.62      3313\n",
      "\n",
      "   micro avg       0.63      0.63      0.63      9931\n",
      "   macro avg       0.70      0.70      0.63      9931\n",
      "weighted avg       0.77      0.63      0.63      9931\n",
      "\n"
     ]
    }
   ],
   "source": [
    "from sklearn.neural_network import MLPClassifier\n",
    "from sklearn.preprocessing import MinMaxScaler\n",
    "from imblearn.over_sampling import SMOTE\n",
    "\n",
    "#mlp = MLPClassifier(solver='adam', alpha=1e-5,hidden_layer_sizes=(200), random_state=1)\n",
    "#mlp.fit(X_train, y_train) \n",
    "#y_pred_mlp = clf.predict(X_test)\n",
    "\n",
    "mlp = MLPClassifier(hidden_layer_sizes=(214, 215), max_iter=100)\n",
    "mlp.fit(X_train,y_train)\n",
    "\n",
    "y_pred_mlp = mlp.predict(X_test)\n",
    "\n",
    "print(accuracy_score(y_test, y_pred_mlp)) \n",
    "print(classification_report(y_test, y_pred_mlp))"
   ]
  },
  {
   "cell_type": "code",
   "execution_count": 34,
   "metadata": {},
   "outputs": [],
   "source": [
    "test_pred_mlp = mlp.predict(test)\n",
    "df = pd.DataFrame(test_pred_mlp[:,None], columns=['up_down'])\n",
    "\n",
    "#test_data = pd.read_csv('Test_small_feature.csv')\n",
    "#test_data = test_data.drop(['Gmt time', 'Unnamed: 0'], axis=1)\n",
    "#print(test_data.iloc[:, 2:])\n",
    "data = pd.DataFrame({'up_down':test_pred_dc})\n",
    "filepath = 'test_prediction_mlp.csv'\n",
    "data.to_csv(filepath, index=False)"
   ]
  },
  {
   "cell_type": "code",
   "execution_count": 2,
   "metadata": {},
   "outputs": [
    {
     "name": "stdout",
     "output_type": "stream",
     "text": [
      "[ True False False False  True False  True  True False False  True  True\n",
      "  True  True False  True  True False False False False False False False\n",
      " False False False False False  True False False False False False False\n",
      " False False False False False False False False False False False False\n",
      " False False False False False False False False False False False False\n",
      " False False False False False False False False False False False False\n",
      " False False False False False False False False False False False False\n",
      " False False False False False False False False False False False False\n",
      " False False False False False False False False False False False False\n",
      " False False False False False False  True False  True  True  True  True\n",
      "  True  True  True  True False False False  True  True  True  True  True\n",
      "  True False  True  True  True  True  True  True  True  True False False\n",
      "  True False  True  True  True False  True  True  True  True  True  True\n",
      "  True  True  True  True  True  True  True  True  True  True  True  True\n",
      "  True  True  True  True  True  True  True  True  True  True  True  True\n",
      "  True  True  True  True  True  True  True  True  True  True  True  True\n",
      "  True  True  True  True  True  True  True  True  True  True  True  True\n",
      "  True  True  True  True  True  True  True  True]\n",
      "[  1  64  95   6   1  90   1   1   2   3   1   1   1   1 106   1   1  84\n",
      "   9  22  79  25  99  85  98  87  50  80  35   1 105  69  24  15  21  44\n",
      "   4  94 110 111  28  54  73  34  56  83  26  33  71 101  53  38  59  70\n",
      "  77  49  31  18  14  92  10  47  36  78  58  16  66  12   8  41  29  75\n",
      "  11   5  30  39  93  55  20  40  42  62  76  61  17  89  91  60  67  32\n",
      "  46 108  13  19  48  86 113  81  65  88  82  72  45  51  68  43  23  74\n",
      "  27  63  37 112  57  52   1 100   1   1   1   1   1   1   1   1 102  97\n",
      "   7   1   1   1   1   1   1 109   1   1   1   1   1   1   1   1  96 104\n",
      "   1 103   1   1   1 107   1   1   1   1   1   1   1   1   1   1   1   1\n",
      "   1   1   1   1   1   1   1   1   1   1   1   1   1   1   1   1   1   1\n",
      "   1   1   1   1   1   1   1   1   1   1   1   1   1   1   1   1   1   1\n",
      "   1   1   1   1   1   1   1   1   1   1   1   1   1   1]\n"
     ]
    }
   ],
   "source": [
    "#Not needed\n",
    "from sklearn.feature_selection import RFE\n",
    "from sklearn.linear_model import LogisticRegression\n",
    "logreg = LogisticRegression()\n",
    "rfe = RFE(logreg, 100)\n",
    "rfe = rfe.fit(X_train, y_train)\n",
    "print(rfe.support_)\n",
    "print(rfe.ranking_)"
   ]
  },
  {
   "cell_type": "code",
   "execution_count": 3,
   "metadata": {},
   "outputs": [
    {
     "name": "stdout",
     "output_type": "stream",
     "text": [
      "Logistic regression score on the test data = 0.6605578491591985\n"
     ]
    }
   ],
   "source": [
    "#Not needed\n",
    "X_train_lr = X_train.iloc[:,rfe.support_ == True]\n",
    "X_test_lr = X_test.iloc[:,rfe.support_ == True]\n",
    "\n",
    "logreg = LogisticRegression()\n",
    "logreg.fit(X_train_lr, y_train)\n",
    "y_test_pred = logreg.predict(X_test_lr)\n",
    "print(\"Logistic regression score on the test data = \" + str(logreg.score(X_test_lr, y_test)))\n"
   ]
  },
  {
   "cell_type": "code",
   "execution_count": 4,
   "metadata": {},
   "outputs": [
    {
     "name": "stdout",
     "output_type": "stream",
     "text": [
      "[[6057  561]\n",
      " [2810  503]]\n",
      "              precision    recall  f1-score   support\n",
      "\n",
      "         0.0       0.68      0.92      0.78      6618\n",
      "         1.0       0.47      0.15      0.23      3313\n",
      "\n",
      "   micro avg       0.66      0.66      0.66      9931\n",
      "   macro avg       0.58      0.53      0.51      9931\n",
      "weighted avg       0.61      0.66      0.60      9931\n",
      "\n"
     ]
    }
   ],
   "source": [
    "#Not needed\n",
    "from sklearn.metrics import confusion_matrix\n",
    "from sklearn.metrics import classification_report\n",
    "confusion_matrix = confusion_matrix(y_test, y_test_pred)\n",
    "print(confusion_matrix)\n",
    "print(classification_report(y_test, y_test_pred))"
   ]
  },
  {
   "cell_type": "code",
   "execution_count": 22,
   "metadata": {},
   "outputs": [
    {
     "name": "stdout",
     "output_type": "stream",
     "text": [
      "Logistic regression score on the test data = 0.6651898096868392\n"
     ]
    }
   ],
   "source": [
    "#X_train, X_test, y_train, y_test = train_test_split(X, y, test_size=0.3, random_state=0)\n",
    "logreg = LogisticRegression(max_iter=16000)\n",
    "logreg.fit(X_train, y_train)\n",
    "y_test_pred = logreg.predict(X_test)\n",
    "print(\"Logistic regression score on the test data = \" + str(logreg.score(X_test, y_test)))\n"
   ]
  },
  {
   "cell_type": "code",
   "execution_count": 16,
   "metadata": {},
   "outputs": [
    {
     "name": "stdout",
     "output_type": "stream",
     "text": [
      "[[5766  852]\n",
      " [2477  836]]\n",
      "              precision    recall  f1-score   support\n",
      "\n",
      "         0.0       0.70      0.87      0.78      6618\n",
      "         1.0       0.50      0.25      0.33      3313\n",
      "\n",
      "   micro avg       0.66      0.66      0.66      9931\n",
      "   macro avg       0.60      0.56      0.56      9931\n",
      "weighted avg       0.63      0.66      0.63      9931\n",
      "\n"
     ]
    }
   ],
   "source": [
    "#Not needed\n",
    "from sklearn.metrics import confusion_matrix\n",
    "from sklearn.metrics import classification_report\n",
    "confusion_matrix = confusion_matrix(y_test, y_test_pred)\n",
    "print(confusion_matrix)\n",
    "print(classification_report(y_test, y_test_pred))"
   ]
  },
  {
   "cell_type": "markdown",
   "metadata": {},
   "source": [
    "ROC Curve"
   ]
  },
  {
   "cell_type": "code",
   "execution_count": 10,
   "metadata": {},
   "outputs": [
    {
     "data": {
      "image/png": "[encoded data removed]",
      "text/plain": [
       "<Figure size 432x288 with 1 Axes>"
      ]
     },
     "metadata": {},
     "output_type": "display_data"
    }
   ],
   "source": [
    "\n",
    "from sklearn.metrics import roc_curve, auc\n",
    "import matplotlib.pyplot as plt\n",
    "\n",
    "fpr, tpr, thresholds = roc_curve(y_test, y_pred_svm)\n",
    "roc_auc = auc(fpr, tpr)\n",
    "fpr2, tpr2, thresholds2 = roc_curve(y_test, y_pred_dt)\n",
    "roc_auc2 = auc(fpr2, tpr2)\n",
    "fpr3, tpr3, thresholds3 = roc_curve(y_test, y_pred_mlp)\n",
    "roc_auc3 = auc(fpr3, tpr3)\n",
    "fpr4, tpr4, thresholds4 = roc_curve(y_test, y_pred_rf)\n",
    "roc_auc4 = auc(fpr4, tpr4)\n",
    "\n",
    "plt.figure()\n",
    "plt.xlabel('False Positive Rate')\n",
    "plt.ylabel('True Positive Rate')\n",
    "plt.plot([0, 1], [0, 1], color='navy', linestyle='--')\n",
    "plt.xlim([0.0, 1.05])\n",
    "plt.ylim([0.0, 1.05])\n",
    "plt.title('SVM Classifier ROC')\n",
    "plt.plot(fpr, tpr, color='blue', lw=2, label='SVM ROC area = %0.2f)' % roc_auc)\n",
    "plt.plot(fpr2, tpr2, color='red', lw=2, label='DT ROC area = %0.2f)' % roc_auc2)\n",
    "plt.plot(fpr3, tpr3, color='green', lw=2, label='NN ROC area = %0.2f)' % roc_auc3)\n",
    "plt.plot(fpr4, tpr4, color='yellow', lw=2, label='NN ROC area = %0.2f)' % roc_auc4)\n",
    "plt.legend(loc=\"lower right\")\n",
    "plt.show()"
   ]
  },
  {
   "cell_type": "code",
   "execution_count": null,
   "metadata": {},
   "outputs": [],
   "source": []
  }
 ],
 "metadata": {
  "kernelspec": {
   "display_name": "Python 3",
   "language": "python",
   "name": "python3"
  },
  "language_info": {
   "codemirror_mode": {
    "name": "ipython",
    "version": 3
   },
   "file_extension": ".py",
   "mimetype": "text/x-python",
   "name": "python",
   "nbconvert_exporter": "python",
   "pygments_lexer": "ipython3",
   "version": "3.6.5"
  }
 },
 "nbformat": 4,
 "nbformat_minor": 2
}
